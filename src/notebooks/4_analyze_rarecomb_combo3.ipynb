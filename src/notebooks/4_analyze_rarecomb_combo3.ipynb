{
 "cells": [
  {
   "cell_type": "code",
   "execution_count": 1,
   "metadata": {},
   "outputs": [],
   "source": [
    "import functools\n",
    "import numpy as np\n",
    "import pandas as pd\n",
    "import seaborn as sns\n",
    "import matplotlib.pyplot as plt\n",
    "from scipy.stats import ttest_ind, kstest\n",
    "from itertools import combinations\n",
    "\n",
    "# sns.set_style(\"dark\", {\"grid.color\": \".6\", \"grid.linestyle\": \":\"})\n",
    "# sns.set_context(\"talk\")\n",
    "# sns.set(font_scale = 1.25)\n",
    "plt.rcParams.update({'font.size': 12})"
   ]
  },
  {
   "cell_type": "code",
   "execution_count": 2,
   "metadata": {},
   "outputs": [],
   "source": [
    "combo=3"
   ]
  },
  {
   "cell_type": "code",
   "execution_count": 3,
   "metadata": {},
   "outputs": [],
   "source": [
    "meta_outfile = f\"/data5/deepro/ukbiobank/analysis/lifestyle_factors/data/meta_rarecomb_out_{combo}.csv\"\n",
    "meta_infile = \"/data5/deepro/ukbiobank/analysis/lifestyle_factors/data/meta_rarecomb_in.csv\"\n",
    "case_sample_file = \"/data5/UK_Biobank/bmi_project/combinations/white_british/cases_controls/high_low_cases.txt\"\n",
    "variants_file = \"/data5/UK_Biobank/annotations/vep/2022_03_13/data/variants_by_gene/lof_missense_pred_freq_0.01.tsv\"\n",
    "phenotypes_file = \"/data5/UK_Biobank/bmi_project/combinations/all_combinations/sample_tables/white_british_samples_with_residuals.csv\"\n",
    "wes_file = \"/data5/UK_Biobank/bmi_project/combinations/white_british/tables/wes.tsv\"\n",
    "lifestyle_factor_files = [\n",
    "    \"/data5/deepro/ukbiobank/analysis/lifestyle_factors/data/mental_health/cat_extremes.csv\",\n",
    "    \"/data5/deepro/ukbiobank/analysis/lifestyle_factors/data/diet/cat_extremes.csv\",\n",
    "    \"/data5/deepro/ukbiobank/analysis/lifestyle_factors/data/physical_activity/cat_extremes.csv\"\n",
    "]"
   ]
  },
  {
   "cell_type": "markdown",
   "metadata": {},
   "source": [
    "# Combinations that were significant"
   ]
  },
  {
   "cell_type": "code",
   "execution_count": 4,
   "metadata": {},
   "outputs": [],
   "source": [
    "rarecomb_out = pd.read_csv(meta_outfile)\n",
    "rarecomb_out_sig = rarecomb_out.loc[rarecomb_out.Case_Adj_Pval_BH<0.05]"
   ]
  },
  {
   "cell_type": "markdown",
   "metadata": {},
   "source": [
    "# Unique items (genes or lifestyle factors) that came out of that combination"
   ]
  },
  {
   "cell_type": "code",
   "execution_count": 5,
   "metadata": {},
   "outputs": [],
   "source": [
    "enriched_combos = rarecomb_out_sig.loc[:, [f\"Item_{c}\" for c in range(1, combo+1)]].values"
   ]
  },
  {
   "cell_type": "code",
   "execution_count": 6,
   "metadata": {},
   "outputs": [],
   "source": [
    "columns_to_use = sorted(set(enriched_combos.flatten()))"
   ]
  },
  {
   "cell_type": "code",
   "execution_count": 7,
   "metadata": {},
   "outputs": [],
   "source": [
    "gene_columns_to_use = [c for c in columns_to_use if \"_ENSG\" in c]\n",
    "lifestyle_columns_to_use = [c for c in columns_to_use if \"_ENSG\" not in c]"
   ]
  },
  {
   "cell_type": "markdown",
   "metadata": {},
   "source": [
    "# Samples with these gene columns"
   ]
  },
  {
   "cell_type": "code",
   "execution_count": 8,
   "metadata": {},
   "outputs": [],
   "source": [
    "wes_df = pd.read_csv(wes_file, sep=\"\\t\", low_memory=False, usecols=[\"Sample_Name\"] + gene_columns_to_use, index_col=0)"
   ]
  },
  {
   "cell_type": "markdown",
   "metadata": {},
   "source": [
    "# Samples with these lifestyle factors"
   ]
  },
  {
   "cell_type": "code",
   "execution_count": 9,
   "metadata": {},
   "outputs": [],
   "source": [
    "lifestyle_df = pd.concat([pd.read_csv(lf, index_col=0) for lf in lifestyle_factor_files], axis=1).fillna(0.)"
   ]
  },
  {
   "cell_type": "markdown",
   "metadata": {},
   "source": [
    "# BMI of these samples"
   ]
  },
  {
   "cell_type": "code",
   "execution_count": 10,
   "metadata": {},
   "outputs": [],
   "source": [
    "phenotypes_df = pd.read_csv(phenotypes_file, low_memory=False, usecols=[\"eid\", \"bmi\"], index_col=0, dtype={\"eid\": str, \"bmi\": np.float64})"
   ]
  },
  {
   "cell_type": "code",
   "execution_count": 11,
   "metadata": {},
   "outputs": [],
   "source": [
    "gene_df = wes_df.merge(phenotypes_df, left_index=True, right_index=True)\n",
    "profile_df = lifestyle_df.merge(gene_df, left_index=True, right_index=True)"
   ]
  },
  {
   "cell_type": "markdown",
   "metadata": {},
   "source": [
    "# Filter samples based on conditions\n",
    "\n",
    "The conditions are:\n",
    "1. Samples who have any one of the genes but not the lifestyle factors\n",
    "2. Samples who have any one of the lifestyle factors but not the genes\n",
    "3. Samples who have these combinations identified by rarecomb\n",
    "4. Samples who do not have either the gene or the lifestyle factors"
   ]
  },
  {
   "cell_type": "code",
   "execution_count": 12,
   "metadata": {},
   "outputs": [],
   "source": [
    "# condition 1 eval string\n",
    "cond1 = \"(\" + \" | \".join([f\"({gene} == 1)\" for gene in gene_columns_to_use]) + \")\" + \" & \" + \"(\" + \" & \".join([f\"({lf} == 0)\" for lf in lifestyle_columns_to_use]) + \")\"\n",
    "# condition 2 eval string\n",
    "cond2 = \"(\" + \" | \".join([f\"({lf} == 1)\" for lf in lifestyle_columns_to_use]) + \")\" + \" & \" + \"(\" +\" & \".join([f\"({gene} == 0)\" for gene in gene_columns_to_use]) + \")\"\n",
    "# condition 3 eval string\n",
    "cond3 = \" | \".join([\"(\" + \" & \".join([f\"({c} == 1)\" for c in ec_i]) + \")\" for ec_i in enriched_combos])\n",
    "# condition 4 eval string\n",
    "cond4 = \" & \".join([f\"({lf_g} == 0)\" for lf_g in columns_to_use])"
   ]
  },
  {
   "cell_type": "markdown",
   "metadata": {},
   "source": [
    "# Creating dataframe for plotting"
   ]
  },
  {
   "cell_type": "code",
   "execution_count": 13,
   "metadata": {},
   "outputs": [],
   "source": [
    "def create_plot_df(conds, cond_cats=[\"genes only\", \"lifestyles only\", \"combos\", \"no gene or lifestyle\"]):\n",
    "    plot_df = pd.DataFrame()\n",
    "    for cond, condcat in zip(conds, cond_cats):\n",
    "        pltdf = profile_df.loc[profile_df.eval(cond), \"bmi\"].to_frame()\n",
    "        pltdf[\"category\"] = condcat\n",
    "        plot_df = pd.concat((plot_df, pltdf))\n",
    "    return plot_df"
   ]
  },
  {
   "cell_type": "code",
   "execution_count": 14,
   "metadata": {},
   "outputs": [],
   "source": [
    "plot_df = create_plot_df([cond1, cond2, cond3, cond4])"
   ]
  },
  {
   "cell_type": "code",
   "execution_count": 15,
   "metadata": {},
   "outputs": [
    {
     "data": {
      "image/png": "[encoded data removed]",
      "text/plain": [
       "<Figure size 864x576 with 1 Axes>"
      ]
     },
     "metadata": {
      "needs_background": "light"
     },
     "output_type": "display_data"
    }
   ],
   "source": [
    "fig, axes = plt.subplots(figsize=(12,8))\n",
    "sns.violinplot(\n",
    "    data=plot_df, \n",
    "    x=\"category\", \n",
    "    y=\"bmi\", \n",
    "    hue=\"category\", \n",
    "    palette=\"Set2\", \n",
    "    orient=\"v\",\n",
    "    ax=axes,\n",
    "    scale=\"area\",\n",
    "    )\n",
    "# sns.swarmplot(data=plot_df, x=\"category\", y =\"bmi\", color=\".25\", ax=axes, orient=\"v\")\n",
    "plt.xticks(rotation=45);"
   ]
  },
  {
   "cell_type": "markdown",
   "metadata": {},
   "source": [
    "# Significance test"
   ]
  },
  {
   "cell_type": "code",
   "execution_count": 16,
   "metadata": {},
   "outputs": [],
   "source": [
    "combos_bmi = plot_df.loc[plot_df.category==\"combos\"].bmi.values\n",
    "genes_only = plot_df.loc[plot_df.category==\"genes only\"].bmi.values\n",
    "lifestyles_only = plot_df.loc[plot_df.category==\"lifestyles only\"].bmi.values\n",
    "no_gene_or_lifestyle = plot_df.loc[plot_df.category==\"no gene or lifestyle\"].bmi.values"
   ]
  },
  {
   "cell_type": "code",
   "execution_count": 17,
   "metadata": {},
   "outputs": [],
   "source": [
    "cond_cats=[\"genes only\", \"lifestyles only\", \"combos\", \"no gene or lifestyle\"]"
   ]
  },
  {
   "cell_type": "code",
   "execution_count": 18,
   "metadata": {},
   "outputs": [],
   "source": [
    "def run_test(cond1, cond2):\n",
    "    x = plot_df.loc[plot_df.category==cond1].bmi.values\n",
    "    y = plot_df.loc[plot_df.category==cond2].bmi.values\n",
    "    ttest_res = ttest_ind(x, y)\n",
    "    kstest_res = kstest(x, y)\n",
    "    return f\"{cond1} vs {cond2}\", ttest_res.pvalue,  kstest_res.pvalue"
   ]
  },
  {
   "cell_type": "code",
   "execution_count": 19,
   "metadata": {},
   "outputs": [
    {
     "data": {
      "text/html": [
       "<div>\n",
       "<style scoped>\n",
       "    .dataframe tbody tr th:only-of-type {\n",
       "        vertical-align: middle;\n",
       "    }\n",
       "\n",
       "    .dataframe tbody tr th {\n",
       "        vertical-align: top;\n",
       "    }\n",
       "\n",
       "    .dataframe thead th {\n",
       "        text-align: right;\n",
       "    }\n",
       "</style>\n",
       "<table border=\"1\" class=\"dataframe\">\n",
       "  <thead>\n",
       "    <tr style=\"text-align: right;\">\n",
       "      <th></th>\n",
       "      <th>comparisons</th>\n",
       "      <th>ttest_pvalue</th>\n",
       "      <th>kstest_pvalue</th>\n",
       "    </tr>\n",
       "  </thead>\n",
       "  <tbody>\n",
       "    <tr>\n",
       "      <th>3</th>\n",
       "      <td>lifestyles only vs combos</td>\n",
       "      <td>5.934897e-208</td>\n",
       "      <td>7.451287e-143</td>\n",
       "    </tr>\n",
       "    <tr>\n",
       "      <th>1</th>\n",
       "      <td>genes only vs combos</td>\n",
       "      <td>1.355041e-67</td>\n",
       "      <td>1.752480e-60</td>\n",
       "    </tr>\n",
       "    <tr>\n",
       "      <th>5</th>\n",
       "      <td>combos vs no gene or lifestyle</td>\n",
       "      <td>3.126708e-36</td>\n",
       "      <td>7.939339e-34</td>\n",
       "    </tr>\n",
       "    <tr>\n",
       "      <th>4</th>\n",
       "      <td>lifestyles only vs no gene or lifestyle</td>\n",
       "      <td>1.719751e-04</td>\n",
       "      <td>5.085231e-02</td>\n",
       "    </tr>\n",
       "    <tr>\n",
       "      <th>0</th>\n",
       "      <td>genes only vs lifestyles only</td>\n",
       "      <td>1.611039e-02</td>\n",
       "      <td>1.549068e-01</td>\n",
       "    </tr>\n",
       "    <tr>\n",
       "      <th>2</th>\n",
       "      <td>genes only vs no gene or lifestyle</td>\n",
       "      <td>1.330826e-01</td>\n",
       "      <td>3.579270e-01</td>\n",
       "    </tr>\n",
       "  </tbody>\n",
       "</table>\n",
       "</div>"
      ],
      "text/plain": [
       "                               comparisons   ttest_pvalue  kstest_pvalue\n",
       "3                lifestyles only vs combos  5.934897e-208  7.451287e-143\n",
       "1                     genes only vs combos   1.355041e-67   1.752480e-60\n",
       "5           combos vs no gene or lifestyle   3.126708e-36   7.939339e-34\n",
       "4  lifestyles only vs no gene or lifestyle   1.719751e-04   5.085231e-02\n",
       "0            genes only vs lifestyles only   1.611039e-02   1.549068e-01\n",
       "2       genes only vs no gene or lifestyle   1.330826e-01   3.579270e-01"
      ]
     },
     "execution_count": 19,
     "metadata": {},
     "output_type": "execute_result"
    }
   ],
   "source": [
    "pd.DataFrame([run_test(*c) for c in list(combinations(cond_cats, 2))], columns=[\"comparisons\", \"ttest_pvalue\", \"kstest_pvalue\"]).sort_values(\"kstest_pvalue\")"
   ]
  },
  {
   "cell_type": "code",
   "execution_count": 20,
   "metadata": {},
   "outputs": [
    {
     "data": {
      "text/plain": [
       "[29.948590691977955, 27.558801068463318, 27.325819687313167, 27.80972607684777]"
      ]
     },
     "execution_count": 20,
     "metadata": {},
     "output_type": "execute_result"
    }
   ],
   "source": [
    "[np.mean(x) for x in [combos_bmi, genes_only, lifestyles_only, no_gene_or_lifestyle]]"
   ]
  },
  {
   "cell_type": "code",
   "execution_count": 21,
   "metadata": {},
   "outputs": [
    {
     "data": {
      "text/plain": [
       "[3266, 2449, 57427, 1362]"
      ]
     },
     "execution_count": 21,
     "metadata": {},
     "output_type": "execute_result"
    }
   ],
   "source": [
    "[len(x) for x in [combos_bmi, genes_only, lifestyles_only, no_gene_or_lifestyle]]"
   ]
  },
  {
   "cell_type": "markdown",
   "metadata": {},
   "source": [
    "# Extend the significance table to make it better"
   ]
  },
  {
   "cell_type": "markdown",
   "metadata": {},
   "source": [
    "## Rearrange lifestyle and gene\n",
    "\n",
    "- Add types to items (types can be either gene or lifestyle)\n",
    "- Arrangement should be lifestyle first and gene second"
   ]
  },
  {
   "cell_type": "code",
   "execution_count": 22,
   "metadata": {},
   "outputs": [],
   "source": [
    "relevant_columns = [\n",
    "    \"Item_1\", \n",
    "    \"Item_2\",\n",
    "    \"Item_3\",\n",
    "    \"Case_Obs_Count_Combo\",\n",
    "    \"Case_Exp_Prob_Combo\",\n",
    "    \"Case_Obs_Prob_Combo\",\n",
    "    \"Case_pvalue_more\",\n",
    "    \"Case_Adj_Pval_bonf\",\n",
    "    \"Case_Adj_Pval_BH\"\n",
    "    ]\n",
    "\n",
    "rarecomb_out_sig_filtered = rarecomb_out_sig.loc[:, relevant_columns]"
   ]
  },
  {
   "cell_type": "code",
   "execution_count": 23,
   "metadata": {},
   "outputs": [],
   "source": [
    "rarecomb_out_sig_filtered[\"combo_num\"] = list(range(1, len(rarecomb_out_sig_filtered)+1))\n",
    "rarecomb_out_sig_filtered = rarecomb_out_sig_filtered.set_index(\"combo_num\")"
   ]
  },
  {
   "cell_type": "code",
   "execution_count": 24,
   "metadata": {},
   "outputs": [],
   "source": [
    "melted_df = pd.melt(rarecomb_out_sig_filtered.reset_index(), id_vars=[\"combo_num\"], value_vars=[\"Item_1\", \"Item_2\", \"Item_3\"])\n",
    "melted_df[\"type\"] = [\"gene\" if v.startswith(\"Input_ENSG\") else \"lifestyle\" for v in melted_df.value.values]\n",
    "melted_df_pivot = melted_df.sort_values([\"type\", \"value\"], ascending=False).groupby(\"combo_num\").agg({\"value\": lambda x: \",\".join(x), \"type\": lambda x: \",\".join(x)})\n",
    "melted_df_pivot_concat = pd.concat((melted_df_pivot.value.str.split(\",\", expand=True), melted_df_pivot.type.str.split(\",\", expand=True)), axis=1)\n",
    "melted_df_pivot_concat.columns = [f\"Item_{i}\" for i in range(1, combo+1)] + [f\"Item_{i}_type\" for i in range(1, combo+1)]"
   ]
  },
  {
   "cell_type": "code",
   "execution_count": 26,
   "metadata": {},
   "outputs": [],
   "source": [
    "rarecomb_out_sig_rearranged = rarecomb_out_sig_filtered.drop(columns=[f\"Item_{i}\" for i in range(1, combo+1)]).merge(melted_df_pivot_concat, left_index=True, right_index=True)"
   ]
  },
  {
   "cell_type": "markdown",
   "metadata": {},
   "source": [
    "## Add gene symbols to items"
   ]
  },
  {
   "cell_type": "code",
   "execution_count": 27,
   "metadata": {},
   "outputs": [],
   "source": [
    "filename = '/data5/bx_reference/hg38/annotations/gene_annotations/GENCODE39/gencode.v39.parsed.genes.tsv'\n",
    "gencode = pd.read_csv(filename, sep='\\t', low_memory=False)\n",
    "gencode[\"gene_id_stripped\"] = gencode[\"gene_id\"].str.split(\".\", expand=True)[0]"
   ]
  },
  {
   "cell_type": "code",
   "execution_count": 28,
   "metadata": {},
   "outputs": [],
   "source": [
    "gene_symbol_dict = dict(zip(gencode.gene_id_stripped, gencode.gene_name))"
   ]
  },
  {
   "cell_type": "code",
   "execution_count": 30,
   "metadata": {},
   "outputs": [],
   "source": [
    "rarecomb_out_sig_rearranged[\"Item_1_symbol\"] = rarecomb_out_sig_rearranged.apply(lambda row: gene_symbol_dict[row.Item_1.replace(\"Input_\", \"\")] if row.Item_1.startswith(\"Input_ENSG\") else np.nan, axis=1)\n",
    "rarecomb_out_sig_rearranged[\"Item_2_symbol\"] = rarecomb_out_sig_rearranged.apply(lambda row: gene_symbol_dict[row.Item_2.replace(\"Input_\", \"\")] if row.Item_2.startswith(\"Input_ENSG\") else np.nan, axis=1)\n",
    "rarecomb_out_sig_rearranged[\"Item_3_symbol\"] = rarecomb_out_sig_rearranged.apply(lambda row: gene_symbol_dict[row.Item_3.replace(\"Input_\", \"\")] if row.Item_3.startswith(\"Input_ENSG\") else np.nan, axis=1)"
   ]
  },
  {
   "cell_type": "markdown",
   "metadata": {},
   "source": [
    "# Save table"
   ]
  },
  {
   "cell_type": "code",
   "execution_count": 35,
   "metadata": {},
   "outputs": [],
   "source": [
    "rarecomb_out_sig_rearranged_genes = rarecomb_out_sig_rearranged.loc[rarecomb_out_sig_rearranged.Item_2_type==\"gene\"]\n",
    "rarecomb_out_sig_rearranged_lifestyles = rarecomb_out_sig_rearranged.loc[rarecomb_out_sig_rearranged.Item_2_type==\"lifestyle\"]"
   ]
  },
  {
   "cell_type": "code",
   "execution_count": 36,
   "metadata": {},
   "outputs": [],
   "source": [
    "def save_table_genes(save_df, filename):\n",
    "    cdf = pd.DataFrame()\n",
    "    for g, df in save_df.groupby([\"Item_1\", \"Item_2_symbol\"]):\n",
    "        cdf = pd.concat((cdf, df), axis=0) \n",
    "    cdf = cdf.set_index([\"Item_1\", \"Item_2_symbol\", \"Item_3_symbol\"])\n",
    "    cdf.to_csv(filename)\n",
    "    return\n",
    "\n",
    "def save_table_lifestyles(save_df, filename):\n",
    "    cdf = pd.DataFrame()\n",
    "    for g, df in save_df.groupby([\"Item_1\", \"Item_2\"]):\n",
    "        cdf = pd.concat((cdf, df), axis=0) \n",
    "    cdf = cdf.set_index([\"Item_1\", \"Item_2\", \"Item_3_symbol\"])\n",
    "    cdf.to_csv(filename)\n",
    "    return"
   ]
  },
  {
   "cell_type": "code",
   "execution_count": 37,
   "metadata": {},
   "outputs": [],
   "source": [
    "save_table_genes(rarecomb_out_sig_rearranged_genes, \"/data5/deepro/ukbiobank/analysis/lifestyle_factors/data/results/tables/combo3_lf_gene_gene.csv\")\n",
    "save_table_lifestyles(rarecomb_out_sig_rearranged_lifestyles, \"/data5/deepro/ukbiobank/analysis/lifestyle_factors/data/results/tables/combo3_lf_lf_gene.csv\")"
   ]
  },
  {
   "cell_type": "code",
   "execution_count": null,
   "metadata": {},
   "outputs": [],
   "source": []
  }
 ],
 "metadata": {
  "kernelspec": {
   "display_name": "Python 3.9.7 ('starrseq': conda)",
   "language": "python",
   "name": "python3"
  },
  "language_info": {
   "codemirror_mode": {
    "name": "ipython",
    "version": 3
   },
   "file_extension": ".py",
   "mimetype": "text/x-python",
   "name": "python",
   "nbconvert_exporter": "python",
   "pygments_lexer": "ipython3",
   "version": "3.9.7"
  },
  "orig_nbformat": 4,
  "vscode": {
   "interpreter": {
    "hash": "06856c2527dea3cf472b3c4994ec564df76496982852535c5a9520cd26601212"
   }
  }
 },
 "nbformat": 4,
 "nbformat_minor": 2
}
