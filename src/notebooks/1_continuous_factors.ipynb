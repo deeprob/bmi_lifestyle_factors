{
 "cells": [
  {
   "cell_type": "code",
   "execution_count": 1,
   "metadata": {},
   "outputs": [],
   "source": [
    "import pandas as pd\n",
    "import os\n",
    "import seaborn as sns\n",
    "import matplotlib.pyplot as plt\n",
    "import utils as ut"
   ]
  },
  {
   "cell_type": "code",
   "execution_count": 2,
   "metadata": {},
   "outputs": [],
   "source": [
    "sns.set_style(\"dark\", {\"grid.color\": \".6\", \"grid.linestyle\": \":\"})\n",
    "sns.set_context(\"paper\")\n",
    "sns.set(font_scale = 1.5)"
   ]
  },
  {
   "cell_type": "code",
   "execution_count": 3,
   "metadata": {},
   "outputs": [],
   "source": [
    "lifestyle_file = \"/data5/deepro/ukbiobank/analysis/lifestyle_factors/data/lifestyle_v2.xlsx\"\n",
    "store_dir = \"/data5/deepro/ukbiobank/preprocess/rarecomb_pheno_prepare/data\"\n",
    "lifestyle_df = pd.read_excel(lifestyle_file)"
   ]
  },
  {
   "cell_type": "markdown",
   "metadata": {},
   "source": [
    "# Continuous"
   ]
  },
  {
   "cell_type": "code",
   "execution_count": 4,
   "metadata": {},
   "outputs": [],
   "source": [
    "cont_df = ut.get_continuous_factors(lifestyle_df, store_dir)"
   ]
  },
  {
   "cell_type": "code",
   "execution_count": 6,
   "metadata": {},
   "outputs": [
    {
     "data": {
      "text/html": [
       "<div>\n",
       "<style scoped>\n",
       "    .dataframe tbody tr th:only-of-type {\n",
       "        vertical-align: middle;\n",
       "    }\n",
       "\n",
       "    .dataframe tbody tr th {\n",
       "        vertical-align: top;\n",
       "    }\n",
       "\n",
       "    .dataframe thead th {\n",
       "        text-align: right;\n",
       "    }\n",
       "</style>\n",
       "<table border=\"1\" class=\"dataframe\">\n",
       "  <thead>\n",
       "    <tr style=\"text-align: right;\">\n",
       "      <th></th>\n",
       "      <th>26410</th>\n",
       "      <th>26411</th>\n",
       "      <th>26412</th>\n",
       "      <th>26413</th>\n",
       "      <th>26414</th>\n",
       "      <th>26415</th>\n",
       "      <th>26416</th>\n",
       "      <th>26417</th>\n",
       "    </tr>\n",
       "  </thead>\n",
       "  <tbody>\n",
       "    <tr>\n",
       "      <th>26410</th>\n",
       "      <td>1.000000</td>\n",
       "      <td>0.960820</td>\n",
       "      <td>0.929860</td>\n",
       "      <td>0.832281</td>\n",
       "      <td>0.834845</td>\n",
       "      <td>0.101273</td>\n",
       "      <td>0.471101</td>\n",
       "      <td>0.582223</td>\n",
       "    </tr>\n",
       "    <tr>\n",
       "      <th>26411</th>\n",
       "      <td>0.960820</td>\n",
       "      <td>1.000000</td>\n",
       "      <td>0.904617</td>\n",
       "      <td>0.756780</td>\n",
       "      <td>0.801537</td>\n",
       "      <td>0.062392</td>\n",
       "      <td>0.355342</td>\n",
       "      <td>0.509082</td>\n",
       "    </tr>\n",
       "    <tr>\n",
       "      <th>26412</th>\n",
       "      <td>0.929860</td>\n",
       "      <td>0.904617</td>\n",
       "      <td>1.000000</td>\n",
       "      <td>0.832638</td>\n",
       "      <td>0.798605</td>\n",
       "      <td>-0.097737</td>\n",
       "      <td>0.329779</td>\n",
       "      <td>0.381276</td>\n",
       "    </tr>\n",
       "    <tr>\n",
       "      <th>26413</th>\n",
       "      <td>0.832281</td>\n",
       "      <td>0.756780</td>\n",
       "      <td>0.832638</td>\n",
       "      <td>1.000000</td>\n",
       "      <td>0.621299</td>\n",
       "      <td>-0.037967</td>\n",
       "      <td>0.257929</td>\n",
       "      <td>0.261880</td>\n",
       "    </tr>\n",
       "    <tr>\n",
       "      <th>26414</th>\n",
       "      <td>0.834845</td>\n",
       "      <td>0.801537</td>\n",
       "      <td>0.798605</td>\n",
       "      <td>0.621299</td>\n",
       "      <td>1.000000</td>\n",
       "      <td>-0.112058</td>\n",
       "      <td>0.320365</td>\n",
       "      <td>0.297760</td>\n",
       "    </tr>\n",
       "    <tr>\n",
       "      <th>26415</th>\n",
       "      <td>0.101273</td>\n",
       "      <td>0.062392</td>\n",
       "      <td>-0.097737</td>\n",
       "      <td>-0.037967</td>\n",
       "      <td>-0.112058</td>\n",
       "      <td>1.000000</td>\n",
       "      <td>0.024155</td>\n",
       "      <td>0.246457</td>\n",
       "    </tr>\n",
       "    <tr>\n",
       "      <th>26416</th>\n",
       "      <td>0.471101</td>\n",
       "      <td>0.355342</td>\n",
       "      <td>0.329779</td>\n",
       "      <td>0.257929</td>\n",
       "      <td>0.320365</td>\n",
       "      <td>0.024155</td>\n",
       "      <td>1.000000</td>\n",
       "      <td>0.253351</td>\n",
       "    </tr>\n",
       "    <tr>\n",
       "      <th>26417</th>\n",
       "      <td>0.582223</td>\n",
       "      <td>0.509082</td>\n",
       "      <td>0.381276</td>\n",
       "      <td>0.261880</td>\n",
       "      <td>0.297760</td>\n",
       "      <td>0.246457</td>\n",
       "      <td>0.253351</td>\n",
       "      <td>1.000000</td>\n",
       "    </tr>\n",
       "  </tbody>\n",
       "</table>\n",
       "</div>"
      ],
      "text/plain": [
       "          26410     26411     26412     26413     26414     26415     26416  \\\n",
       "26410  1.000000  0.960820  0.929860  0.832281  0.834845  0.101273  0.471101   \n",
       "26411  0.960820  1.000000  0.904617  0.756780  0.801537  0.062392  0.355342   \n",
       "26412  0.929860  0.904617  1.000000  0.832638  0.798605 -0.097737  0.329779   \n",
       "26413  0.832281  0.756780  0.832638  1.000000  0.621299 -0.037967  0.257929   \n",
       "26414  0.834845  0.801537  0.798605  0.621299  1.000000 -0.112058  0.320365   \n",
       "26415  0.101273  0.062392 -0.097737 -0.037967 -0.112058  1.000000  0.024155   \n",
       "26416  0.471101  0.355342  0.329779  0.257929  0.320365  0.024155  1.000000   \n",
       "26417  0.582223  0.509082  0.381276  0.261880  0.297760  0.246457  0.253351   \n",
       "\n",
       "          26417  \n",
       "26410  0.582223  \n",
       "26411  0.509082  \n",
       "26412  0.381276  \n",
       "26413  0.261880  \n",
       "26414  0.297760  \n",
       "26415  0.246457  \n",
       "26416  0.253351  \n",
       "26417  1.000000  "
      ]
     },
     "execution_count": 6,
     "metadata": {},
     "output_type": "execute_result"
    }
   ],
   "source": [
    "cont_df.loc[:, [26410, 26411, 26412, 26413, 26414, 26415, 26416, 26417]].corr()"
   ]
  },
  {
   "cell_type": "code",
   "execution_count": 5,
   "metadata": {},
   "outputs": [],
   "source": [
    "cont_deprivation_index_df = ut.standardize_df(cont_df.loc[:, [26410, 26426, 26427]])"
   ]
  },
  {
   "cell_type": "code",
   "execution_count": 6,
   "metadata": {},
   "outputs": [
    {
     "data": {
      "text/html": [
       "<div>\n",
       "<style scoped>\n",
       "    .dataframe tbody tr th:only-of-type {\n",
       "        vertical-align: middle;\n",
       "    }\n",
       "\n",
       "    .dataframe tbody tr th {\n",
       "        vertical-align: top;\n",
       "    }\n",
       "\n",
       "    .dataframe thead th {\n",
       "        text-align: right;\n",
       "    }\n",
       "</style>\n",
       "<table border=\"1\" class=\"dataframe\">\n",
       "  <thead>\n",
       "    <tr style=\"text-align: right;\">\n",
       "      <th></th>\n",
       "      <th>26410</th>\n",
       "      <th>26426</th>\n",
       "      <th>26427</th>\n",
       "    </tr>\n",
       "  </thead>\n",
       "  <tbody>\n",
       "    <tr>\n",
       "      <th>count</th>\n",
       "      <td>176289.000000</td>\n",
       "      <td>7588.000000</td>\n",
       "      <td>11856.000000</td>\n",
       "    </tr>\n",
       "    <tr>\n",
       "      <th>mean</th>\n",
       "      <td>0.207500</td>\n",
       "      <td>0.172690</td>\n",
       "      <td>0.152928</td>\n",
       "    </tr>\n",
       "    <tr>\n",
       "      <th>std</th>\n",
       "      <td>0.168091</td>\n",
       "      <td>0.173580</td>\n",
       "      <td>0.167476</td>\n",
       "    </tr>\n",
       "    <tr>\n",
       "      <th>min</th>\n",
       "      <td>0.000000</td>\n",
       "      <td>0.000000</td>\n",
       "      <td>0.000000</td>\n",
       "    </tr>\n",
       "    <tr>\n",
       "      <th>25%</th>\n",
       "      <td>0.085146</td>\n",
       "      <td>0.049793</td>\n",
       "      <td>0.040676</td>\n",
       "    </tr>\n",
       "    <tr>\n",
       "      <th>50%</th>\n",
       "      <td>0.153213</td>\n",
       "      <td>0.103734</td>\n",
       "      <td>0.085949</td>\n",
       "    </tr>\n",
       "    <tr>\n",
       "      <th>75%</th>\n",
       "      <td>0.279887</td>\n",
       "      <td>0.244813</td>\n",
       "      <td>0.201254</td>\n",
       "    </tr>\n",
       "    <tr>\n",
       "      <th>max</th>\n",
       "      <td>1.000000</td>\n",
       "      <td>1.000000</td>\n",
       "      <td>1.000000</td>\n",
       "    </tr>\n",
       "  </tbody>\n",
       "</table>\n",
       "</div>"
      ],
      "text/plain": [
       "               26410        26426         26427\n",
       "count  176289.000000  7588.000000  11856.000000\n",
       "mean        0.207500     0.172690      0.152928\n",
       "std         0.168091     0.173580      0.167476\n",
       "min         0.000000     0.000000      0.000000\n",
       "25%         0.085146     0.049793      0.040676\n",
       "50%         0.153213     0.103734      0.085949\n",
       "75%         0.279887     0.244813      0.201254\n",
       "max         1.000000     1.000000      1.000000"
      ]
     },
     "execution_count": 6,
     "metadata": {},
     "output_type": "execute_result"
    }
   ],
   "source": [
    "cont_deprivation_index_df.describe()"
   ]
  },
  {
   "cell_type": "code",
   "execution_count": 7,
   "metadata": {},
   "outputs": [
    {
     "data": {
      "text/plain": [
       "<matplotlib.axes._subplots.AxesSubplot at 0x7fdaf34df7f0>"
      ]
     },
     "execution_count": 7,
     "metadata": {},
     "output_type": "execute_result"
    },
    {
     "data": {
      "image/png": "[encoded data removed]",
      "text/plain": [
       "<Figure size 1440x720 with 1 Axes>"
      ]
     },
     "metadata": {},
     "output_type": "display_data"
    }
   ],
   "source": [
    "fig, axes = plt.subplots(figsize=(20,10))\n",
    "sns.histplot(data=cont_deprivation_index_df, ax=axes, log_scale=[False, True], palette=\"Set1\")"
   ]
  },
  {
   "cell_type": "markdown",
   "metadata": {},
   "source": [
    "**Multiple index of deprivation accounts for other factors like education score, economic score etc. We have normalized them using min-max standardization to account for region wise (England, Scotland, Wales) differences and will use them as a single field for lifestyle factor**"
   ]
  },
  {
   "cell_type": "code",
   "execution_count": null,
   "metadata": {},
   "outputs": [],
   "source": []
  }
 ],
 "metadata": {
  "kernelspec": {
   "display_name": "Python 3.10.5 ('lifestyle': conda)",
   "language": "python",
   "name": "python3"
  },
  "language_info": {
   "codemirror_mode": {
    "name": "ipython",
    "version": 3
   },
   "file_extension": ".py",
   "mimetype": "text/x-python",
   "name": "python",
   "nbconvert_exporter": "python",
   "pygments_lexer": "ipython3",
   "version": "3.10.5"
  },
  "orig_nbformat": 4,
  "vscode": {
   "interpreter": {
    "hash": "16cafb6167aab27af38fb9dd7b60957638d395d046547fecb336219eba5f9113"
   }
  }
 },
 "nbformat": 4,
 "nbformat_minor": 2
}
